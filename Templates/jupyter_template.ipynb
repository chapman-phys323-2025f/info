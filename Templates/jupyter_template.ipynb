{
 "cells": [
  {
   "cell_type": "code",
   "execution_count": 1,
   "metadata": {
    "collapsed": false,
    "jupyter": {
     "outputs_hidden": false
    }
   },
   "outputs": [],
   "source": [
    "import numpy as np    # Numeric python\n",
    "import sympy as sp    # Symbolic python\n",
    "import pandas as pd   # Data processing python\n",
    "\n",
    "# By convention, import all modules at the top of the notebook so they don't get in the way later\n",
    "# Import only the modules you actually use!\n",
    "\n",
    "# Plotting library\n",
    "import matplotlib.pyplot as plt\n",
    "\n",
    "# Needed only to render matplotlib plots inside the notebook properly\n",
    "%matplotlib inline"
   ]
  },
  {
   "cell_type": "markdown",
   "metadata": {},
   "source": [
    "# Example Jupyter Notebook\n",
    "\n",
    "Your name here\n",
    "\n",
    "Current date"
   ]
  },
  {
   "cell_type": "markdown",
   "metadata": {},
   "source": [
    "## Introduction\n",
    "\n",
    "A Jupyter notebook is organized into \"cells\" that execute independently.  Double-clicking in a cell places it in \"edit\" mode.  Shift-enter executes the cell.  Other key comamnd help is available in the Help menu at the top of the notebook.  \n",
    "\n",
    "Each cell can be marked as a Markdown cell or a Code cell.  Code cells execute python code directly by default, though there are number of back-ends for different languages that are becoming available.  One should organize the cells in a logical way, so that each cell is a self-contained logical chunk of either text or code.\n",
    "\n",
    "Markdown is a simplified markup language for html, which focuses on content-oriented readability.  The main header of the notebook should be prepended with \"#\" to indicate an h1 header environment.  Sections should be prepended with \"##\" to indicate an h2 header environment.  Subsections should be prepended with \"###\" etc.  Text with no prepended symbol renders as a p (paragraph) environment.  Make sure you put blank lines between different Markdown environments so the parser renders it properly.\n",
    "\n",
    "Markdown cells can also render $\\LaTeX$ math environments by enclosing the code in dollar-signs: \\$code here\\$.  For example, $\\sum_{n=1}^\\infty \\frac{x^n}{n!} = \\exp(x)$. If you desire a separated equation that is centered on the page, this is accomplished by doubling the dollar-signs: \\$\\$code here\\$\\$. For example, $$\\int_a^b \\! \\frac{\\mathrm{d}f(x)}{\\mathrm{d}x}\\,\\mathrm{d}x \\equiv f(b) - f(a)$$\n"
   ]
  },
  {
   "cell_type": "markdown",
   "metadata": {},
   "source": [
    "### Creating Reports\n",
    "\n",
    "When preparing a Jupyter notebook, treat it like a professional report. It should be a well-formatted, aesthetic-looking document that describes exactly what you are doing and why. Large blocks of code should be imported as modules, rather than copy-pasted whole-sale into the notebook.  Any code that appears in the notebook should be short, sweet, and to the point.  As an example, here is a demonstration of the plotting package Matplotlib, which is designed to be as similar as possible to the way MATLAB plots:"
   ]
  },
  {
   "cell_type": "code",
   "execution_count": 2,
   "metadata": {
    "collapsed": false,
    "jupyter": {
     "outputs_hidden": false
    }
   },
   "outputs": [
    {
     "data": {
      "image/png": "[encoded data removed]",
      "text/plain": [
       "<Figure size 432x288 with 1 Axes>"
      ]
     },
     "metadata": {
      "needs_background": "light"
     },
     "output_type": "display_data"
    }
   ],
   "source": [
    "# Plot a sum of sines using Matplotlib\n",
    "\n",
    "x = np.linspace(0,10,100)\n",
    "f = 2 * np.sin(2*x) + 3 * np.cos(x)\n",
    "\n",
    "fig = plt.figure(1)\n",
    "plt.plot(x, f)\n",
    "plt.xlabel(\"x\")\n",
    "plt.ylabel(\"f(x)\")\n",
    "plt.show(fig)"
   ]
  },
  {
   "cell_type": "markdown",
   "metadata": {},
   "source": [
    "Code block in notebooks should not be much longer than the above. Ideally, they should be single function calls. Longer code blocks should be put into modules with extension .py and then imported at the beginning of the notebook.  The notebook itself should focus on results, not on reading long blocks of code."
   ]
  },
  {
   "cell_type": "markdown",
   "metadata": {},
   "source": [
    "To include web images, the format is as follows (note the lack of quotes around the image filename):\n",
    "![Alt text](http://octodex.github.com/images/stormtroopocat.jpg \"The Stormtroopocat\")"
   ]
  },
  {
   "cell_type": "markdown",
   "metadata": {},
   "source": [
    "# Exporting your notebook\n",
    "\n",
    "In the File menu, you can Download your notebook as a number of different formats if desired, including pdf via $\\LaTeX$ if you have it installed and configured properly.  A notebook that is properly formatted with Markdown headings and paragraphs should generally produce a reasonably good looking pdf document."
   ]
  },
  {
   "cell_type": "markdown",
   "metadata": {},
   "source": [
    "## Conclusion\n",
    "\n",
    "Happy notebooking."
   ]
  }
 ],
 "metadata": {
  "kernelspec": {
   "display_name": "Python 3",
   "language": "python",
   "name": "python3"
  },
  "language_info": {
   "codemirror_mode": {
    "name": "ipython",
    "version": 3
   },
   "file_extension": ".py",
   "mimetype": "text/x-python",
   "name": "python",
   "nbconvert_exporter": "python",
   "pygments_lexer": "ipython3",
   "version": "3.7.3"
  },
  "name": "Jupyter_example.ipynb"
 },
 "nbformat": 4,
 "nbformat_minor": 4
}
